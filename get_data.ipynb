{
 "cells": [
  {
   "cell_type": "code",
   "execution_count": 3,
   "metadata": {},
   "outputs": [
    {
     "name": "stderr",
     "output_type": "stream",
     "text": [
      "Using TensorFlow backend.\n"
     ]
    }
   ],
   "source": [
    "from keras.preprocessing.image import img_to_array\n",
    "import imutils\n",
    "import cv2\n",
    "from keras.models import load_model\n",
    "import numpy as np\n"
   ]
  },
  {
   "cell_type": "code",
   "execution_count": 4,
   "metadata": {},
   "outputs": [],
   "source": [
    "# models\n",
    "# face and eyes are templates from opencv\n",
    "face_cascade = cv2.CascadeClassifier('haarcascade_files/haarcascade_frontalface_default.xml')\n",
    "eye_cascade = cv2.CascadeClassifier('haarcascade_files/haarcascade_eye.xml')\n"
   ]
  },
  {
   "cell_type": "code",
   "execution_count": 5,
   "metadata": {},
   "outputs": [],
   "source": [
    "# frame params\n",
    "frame_w = 1200\n",
    "border_w = 2\n",
    "min_size_w = 240\n",
    "min_size_h = 240\n",
    "min_size_w_eye = 60\n",
    "min_size_h_eye = 60\n",
    "scale_factor = 1.1\n",
    "min_neighbours = 5"
   ]
  },
  {
   "cell_type": "code",
   "execution_count": 6,
   "metadata": {},
   "outputs": [],
   "source": [
    "# image iterators\n",
    "# i = image filename number\n",
    "# j = controls how often images should be saved\n",
    "i = 0\n",
    "j = 0\n"
   ]
  },
  {
   "cell_type": "code",
   "execution_count": 7,
   "metadata": {},
   "outputs": [
    {
     "ename": "KeyboardInterrupt",
     "evalue": "",
     "output_type": "error",
     "traceback": [
      "\u001b[1;31m---------------------------------------------------------------------------\u001b[0m",
      "\u001b[1;31mKeyboardInterrupt\u001b[0m                         Traceback (most recent call last)",
      "\u001b[1;32m<ipython-input-7-2877b3cac55d>\u001b[0m in \u001b[0;36m<module>\u001b[1;34m\u001b[0m\n\u001b[0;32m      9\u001b[0m \u001b[1;32mwhile\u001b[0m \u001b[1;32mTrue\u001b[0m\u001b[1;33m:\u001b[0m\u001b[1;33m\u001b[0m\u001b[1;33m\u001b[0m\u001b[0m\n\u001b[0;32m     10\u001b[0m     \u001b[1;31m# get frame\u001b[0m\u001b[1;33m\u001b[0m\u001b[1;33m\u001b[0m\u001b[1;33m\u001b[0m\u001b[0m\n\u001b[1;32m---> 11\u001b[1;33m     \u001b[0mret\u001b[0m\u001b[1;33m,\u001b[0m \u001b[0mframe\u001b[0m \u001b[1;33m=\u001b[0m \u001b[0mcamera\u001b[0m\u001b[1;33m.\u001b[0m\u001b[0mread\u001b[0m\u001b[1;33m(\u001b[0m\u001b[1;33m)\u001b[0m\u001b[1;33m\u001b[0m\u001b[1;33m\u001b[0m\u001b[0m\n\u001b[0m\u001b[0;32m     12\u001b[0m \u001b[1;33m\u001b[0m\u001b[0m\n\u001b[0;32m     13\u001b[0m     \u001b[1;31m# if we have a frame, do stuff\u001b[0m\u001b[1;33m\u001b[0m\u001b[1;33m\u001b[0m\u001b[1;33m\u001b[0m\u001b[0m\n",
      "\u001b[1;31mKeyboardInterrupt\u001b[0m: "
     ]
    }
   ],
   "source": [
    "# init camera window\n",
    "cv2.namedWindow('Watcha Looking At?')\n",
    "camera = cv2.VideoCapture(0)\n",
    "\n",
    "# Check if camera opened successfully\n",
    "if (camera.isOpened() == False): \n",
    "    print(\"Unable to read camera feed\")\n",
    "\n",
    "while True:\n",
    "    # get frame\n",
    "    ret, frame = camera.read()\n",
    "\n",
    "    # if we have a frame, do stuff\n",
    "    if ret:\n",
    "        \n",
    "        # make frame bigger\n",
    "        frame = imutils.resize(frame,width=frame_w)\n",
    "\n",
    "        # use grayscale for faster processing\n",
    "        gray = cv2.cvtColor(frame, cv2.COLOR_BGR2GRAY)\n",
    "\n",
    "        # detect face(s)\n",
    "        faces = face_cascade.detectMultiScale(gray,scaleFactor=scale_factor,minNeighbors=min_neighbours,minSize=(min_size_w,min_size_h),flags=cv2.CASCADE_SCALE_IMAGE)\n",
    "\n",
    "        # for each face, detect eyes and distraction\n",
    "        if len(faces) > 0:\n",
    "            # loop through faces\n",
    "            for (x,y,w,h) in faces:\n",
    "                # draw face rectangle\n",
    "                cv2.rectangle(frame,(x,y),(x+w,y+h),(255,0,0),2)\n",
    "                # get gray face for eye detection\n",
    "                roi_gray = gray[y:y+h, x:x+w]\n",
    "                # get colour face for saving colour eye images for CNN (probs not necessary)\n",
    "                roi_color = frame[y:y+h, x:x+w]\n",
    "                # detect gray eyes\n",
    "                eyes = eye_cascade.detectMultiScale(roi_gray, scaleFactor=scale_factor,minNeighbors=min_neighbours,minSize=(min_size_w_eye,min_size_w_eye))\n",
    "\n",
    "                # loop through detected eyes\n",
    "                for (ex,ey,ew,eh) in eyes:\n",
    "                    # draw eye rectangles\n",
    "                    cv2.rectangle(roi_color,(ex,ey),(ex+ew,ey+eh),(0,255,0),border_w)\n",
    "                    # keep track of eyes detected\n",
    "                    j += 1\n",
    "                    # write every second detected eye to file (should probably make \n",
    "                    # this an odd number, to prevent only one eye being captured)\n",
    "                    if j%2 == 0:\n",
    "                        # create new filename\n",
    "                        i += 1\n",
    "                        # specify save location\n",
    "                        filename = '../data/eye'+str(i)+'.jpg'\n",
    "                        # print(filename)\n",
    "\n",
    "                        # write image to file\n",
    "                        cv2.imwrite(filename, roi_color[ey+border_w:ey+eh-border_w, ex+border_w:ex+ew-border_w])\n",
    "\n",
    "        # show frame in window\n",
    "        cv2.imshow('Watcha Looking At?', frame)\n",
    "\n",
    "        # quit with q\n",
    "        if cv2.waitKey(1) & 0xFF == ord('q'):\n",
    "            break"
   ]
  },
  {
   "cell_type": "code",
   "execution_count": 8,
   "metadata": {},
   "outputs": [],
   "source": [
    "# close\n",
    "camera.release()\n",
    "cv2.destroyAllWindows()"
   ]
  },
  {
   "cell_type": "code",
   "execution_count": null,
   "metadata": {},
   "outputs": [],
   "source": []
  }
 ],
 "metadata": {
  "kernelspec": {
   "display_name": "Python 3",
   "language": "python",
   "name": "python3"
  },
  "language_info": {
   "codemirror_mode": {
    "name": "ipython",
    "version": 3
   },
   "file_extension": ".py",
   "mimetype": "text/x-python",
   "name": "python",
   "nbconvert_exporter": "python",
   "pygments_lexer": "ipython3",
   "version": "3.6.7"
  }
 },
 "nbformat": 4,
 "nbformat_minor": 2
}
